{
 "cells": [
  {
   "cell_type": "code",
   "execution_count": 1,
   "metadata": {},
   "outputs": [
    {
     "data": {
      "text/plain": [
       "True"
      ]
     },
     "execution_count": 1,
     "metadata": {},
     "output_type": "execute_result"
    }
   ],
   "source": [
    "from dotenv import load_dotenv\n",
    "\n",
    "load_dotenv()"
   ]
  },
  {
   "cell_type": "code",
   "execution_count": 2,
   "metadata": {},
   "outputs": [],
   "source": [
    "from typing import Annotated\n",
    "\n",
    "from typing_extensions import TypedDict\n",
    "\n",
    "from langgraph.graph.message import add_messages\n",
    "\n",
    "\n",
    "class State(TypedDict):\n",
    "    messages: Annotated[list, add_messages]"
   ]
  },
  {
   "cell_type": "code",
   "execution_count": 3,
   "metadata": {},
   "outputs": [],
   "source": [
    "from langchain_community.tools.tavily_search import TavilySearchResults\n",
    "from langchain_groq import ChatGroq\n",
    "from typing_extensions import TypedDict\n",
    "from langgraph.checkpoint.sqlite import SqliteSaver\n",
    "from langgraph.graph import StateGraph\n",
    "from langgraph.graph.message import add_messages\n",
    "from langgraph.prebuilt import ToolNode, tools_condition"
   ]
  },
  {
   "cell_type": "code",
   "execution_count": 4,
   "metadata": {},
   "outputs": [],
   "source": [
    "memory = SqliteSaver.from_conn_string(\":memory:\")"
   ]
  },
  {
   "cell_type": "code",
   "execution_count": 5,
   "metadata": {},
   "outputs": [],
   "source": [
    "import os\n",
    "tav_api = os.getenv(\"TAVILY_API_KEY\")\n",
    "class State(TypedDict):\n",
    "    messages: Annotated[list, add_messages]\n",
    "\n",
    "\n",
    "graph_builder = StateGraph(State)\n",
    "\n",
    "# Setup Tavily Search Tool\n",
    "tool = TavilySearchResults(max_results=2, api_key=tav_api)\n",
    "tools = [tool]\n",
    "\n",
    "llm = ChatGroq(model_name=\"llama3-70b-8192\", temperature=0)\n",
    "llm_with_tools = llm.bind_tools(tools)\n",
    "\n",
    "\n",
    "def chatbot(state: State):\n",
    "    return {\"messages\": [llm_with_tools.invoke(state[\"messages\"])]}"
   ]
  },
  {
   "cell_type": "code",
   "execution_count": 6,
   "metadata": {},
   "outputs": [
    {
     "data": {
      "text/plain": [
       "<langgraph.graph.state.StateGraph at 0x25cfe4b26b0>"
      ]
     },
     "execution_count": 6,
     "metadata": {},
     "output_type": "execute_result"
    }
   ],
   "source": [
    "graph_builder.add_node(\"chatbot\", chatbot)\n",
    "\n",
    "tool_node = ToolNode(tools=[tool])\n",
    "graph_builder.add_node(\"tools\", tool_node)\n",
    "\n",
    "graph_builder.add_conditional_edges(\n",
    "    \"chatbot\",\n",
    "    tools_condition,\n",
    ")\n",
    "graph_builder.add_edge(\"tools\", \"chatbot\")\n",
    "graph_builder.set_entry_point(\"chatbot\")"
   ]
  },
  {
   "cell_type": "code",
   "execution_count": 7,
   "metadata": {},
   "outputs": [],
   "source": [
    "graph = graph_builder.compile(\n",
    "    checkpointer=memory,\n",
    "    interrupt_before=[\"tools\"]\n",
    ")"
   ]
  },
  {
   "cell_type": "code",
   "execution_count": 8,
   "metadata": {},
   "outputs": [
    {
     "data": {
      "image/png": "[encoded data removed]",
      "text/plain": [
       "<IPython.core.display.Image object>"
      ]
     },
     "metadata": {},
     "output_type": "display_data"
    }
   ],
   "source": [
    "from IPython.display import Image, display\n",
    "\n",
    "try:\n",
    "    display(Image(graph.get_graph().draw_mermaid_png()))\n",
    "except Exception:\n",
    "    pass"
   ]
  },
  {
   "cell_type": "code",
   "execution_count": 10,
   "metadata": {},
   "outputs": [
    {
     "ename": "AttributeError",
     "evalue": "'_GeneratorContextManager' object has no attribute 'get_next_version'",
     "output_type": "error",
     "traceback": [
      "\u001b[1;31m---------------------------------------------------------------------------\u001b[0m",
      "\u001b[1;31mAttributeError\u001b[0m                            Traceback (most recent call last)",
      "Cell \u001b[1;32mIn[10], line 6\u001b[0m\n\u001b[0;32m      3\u001b[0m config \u001b[38;5;241m=\u001b[39m {\u001b[38;5;124m\"\u001b[39m\u001b[38;5;124mconfigurable\u001b[39m\u001b[38;5;124m\"\u001b[39m: {\u001b[38;5;124m\"\u001b[39m\u001b[38;5;124mthread_id\u001b[39m\u001b[38;5;124m\"\u001b[39m: \u001b[38;5;124m\"\u001b[39m\u001b[38;5;124m1\u001b[39m\u001b[38;5;124m\"\u001b[39m}}\n\u001b[0;32m      4\u001b[0m input_message \u001b[38;5;241m=\u001b[39m HumanMessage(content\u001b[38;5;241m=\u001b[39m\u001b[38;5;124m\"\u001b[39m\u001b[38;5;124mHello, I am John\u001b[39m\u001b[38;5;124m\"\u001b[39m)\n\u001b[1;32m----> 6\u001b[0m \u001b[43mgraph\u001b[49m\u001b[38;5;241;43m.\u001b[39;49m\u001b[43minvoke\u001b[49m\u001b[43m(\u001b[49m\u001b[43m{\u001b[49m\u001b[38;5;124;43m\"\u001b[39;49m\u001b[38;5;124;43mmessages\u001b[39;49m\u001b[38;5;124;43m\"\u001b[39;49m\u001b[43m:\u001b[49m\u001b[43m \u001b[49m\u001b[43minput_message\u001b[49m\u001b[43m}\u001b[49m\u001b[43m,\u001b[49m\u001b[43m \u001b[49m\u001b[43mconfig\u001b[49m\u001b[38;5;241;43m=\u001b[39;49m\u001b[43mconfig\u001b[49m\u001b[43m)\u001b[49m\n",
      "File \u001b[1;32me:\\LangGraph\\venv\\lib\\site-packages\\langgraph\\pregel\\__init__.py:2124\u001b[0m, in \u001b[0;36mPregel.invoke\u001b[1;34m(self, input, config, stream_mode, output_keys, interrupt_before, interrupt_after, debug, **kwargs)\u001b[0m\n\u001b[0;32m   2122\u001b[0m \u001b[38;5;28;01melse\u001b[39;00m:\n\u001b[0;32m   2123\u001b[0m     chunks \u001b[38;5;241m=\u001b[39m []\n\u001b[1;32m-> 2124\u001b[0m \u001b[38;5;28;01mfor\u001b[39;00m chunk \u001b[38;5;129;01min\u001b[39;00m \u001b[38;5;28mself\u001b[39m\u001b[38;5;241m.\u001b[39mstream(\n\u001b[0;32m   2125\u001b[0m     \u001b[38;5;28minput\u001b[39m,\n\u001b[0;32m   2126\u001b[0m     config,\n\u001b[0;32m   2127\u001b[0m     stream_mode\u001b[38;5;241m=\u001b[39mstream_mode,\n\u001b[0;32m   2128\u001b[0m     output_keys\u001b[38;5;241m=\u001b[39moutput_keys,\n\u001b[0;32m   2129\u001b[0m     interrupt_before\u001b[38;5;241m=\u001b[39minterrupt_before,\n\u001b[0;32m   2130\u001b[0m     interrupt_after\u001b[38;5;241m=\u001b[39minterrupt_after,\n\u001b[0;32m   2131\u001b[0m     debug\u001b[38;5;241m=\u001b[39mdebug,\n\u001b[0;32m   2132\u001b[0m     \u001b[38;5;241m*\u001b[39m\u001b[38;5;241m*\u001b[39mkwargs,\n\u001b[0;32m   2133\u001b[0m ):\n\u001b[0;32m   2134\u001b[0m     \u001b[38;5;28;01mif\u001b[39;00m stream_mode \u001b[38;5;241m==\u001b[39m \u001b[38;5;124m\"\u001b[39m\u001b[38;5;124mvalues\u001b[39m\u001b[38;5;124m\"\u001b[39m:\n\u001b[0;32m   2135\u001b[0m         latest \u001b[38;5;241m=\u001b[39m chunk\n",
      "File \u001b[1;32me:\\LangGraph\\venv\\lib\\site-packages\\langgraph\\pregel\\__init__.py:1723\u001b[0m, in \u001b[0;36mPregel.stream\u001b[1;34m(self, input, config, stream_mode, output_keys, interrupt_before, interrupt_after, debug, subgraphs)\u001b[0m\n\u001b[0;32m   1719\u001b[0m \u001b[38;5;28;01mif\u001b[39;00m \u001b[38;5;124m\"\u001b[39m\u001b[38;5;124mcustom\u001b[39m\u001b[38;5;124m\"\u001b[39m \u001b[38;5;129;01min\u001b[39;00m stream_modes:\n\u001b[0;32m   1720\u001b[0m     config[CONF][CONFIG_KEY_STREAM_WRITER] \u001b[38;5;241m=\u001b[39m \u001b[38;5;28;01mlambda\u001b[39;00m c: stream\u001b[38;5;241m.\u001b[39mput(\n\u001b[0;32m   1721\u001b[0m         ((), \u001b[38;5;124m\"\u001b[39m\u001b[38;5;124mcustom\u001b[39m\u001b[38;5;124m\"\u001b[39m, c)\n\u001b[0;32m   1722\u001b[0m     )\n\u001b[1;32m-> 1723\u001b[0m \u001b[38;5;28;01mwith\u001b[39;00m \u001b[43mSyncPregelLoop\u001b[49m\u001b[43m(\u001b[49m\n\u001b[0;32m   1724\u001b[0m \u001b[43m    \u001b[49m\u001b[38;5;28;43minput\u001b[39;49m\u001b[43m,\u001b[49m\n\u001b[0;32m   1725\u001b[0m \u001b[43m    \u001b[49m\u001b[43mstream\u001b[49m\u001b[38;5;241;43m=\u001b[39;49m\u001b[43mStreamProtocol\u001b[49m\u001b[43m(\u001b[49m\u001b[43mstream\u001b[49m\u001b[38;5;241;43m.\u001b[39;49m\u001b[43mput\u001b[49m\u001b[43m,\u001b[49m\u001b[43m \u001b[49m\u001b[43mstream_modes\u001b[49m\u001b[43m)\u001b[49m\u001b[43m,\u001b[49m\n\u001b[0;32m   1726\u001b[0m \u001b[43m    \u001b[49m\u001b[43mconfig\u001b[49m\u001b[38;5;241;43m=\u001b[39;49m\u001b[43mconfig\u001b[49m\u001b[43m,\u001b[49m\n\u001b[0;32m   1727\u001b[0m \u001b[43m    \u001b[49m\u001b[43mstore\u001b[49m\u001b[38;5;241;43m=\u001b[39;49m\u001b[43mstore\u001b[49m\u001b[43m,\u001b[49m\n\u001b[0;32m   1728\u001b[0m \u001b[43m    \u001b[49m\u001b[43mcheckpointer\u001b[49m\u001b[38;5;241;43m=\u001b[39;49m\u001b[43mcheckpointer\u001b[49m\u001b[43m,\u001b[49m\n\u001b[0;32m   1729\u001b[0m \u001b[43m    \u001b[49m\u001b[43mnodes\u001b[49m\u001b[38;5;241;43m=\u001b[39;49m\u001b[38;5;28;43mself\u001b[39;49m\u001b[38;5;241;43m.\u001b[39;49m\u001b[43mnodes\u001b[49m\u001b[43m,\u001b[49m\n\u001b[0;32m   1730\u001b[0m \u001b[43m    \u001b[49m\u001b[43mspecs\u001b[49m\u001b[38;5;241;43m=\u001b[39;49m\u001b[38;5;28;43mself\u001b[39;49m\u001b[38;5;241;43m.\u001b[39;49m\u001b[43mchannels\u001b[49m\u001b[43m,\u001b[49m\n\u001b[0;32m   1731\u001b[0m \u001b[43m    \u001b[49m\u001b[43moutput_keys\u001b[49m\u001b[38;5;241;43m=\u001b[39;49m\u001b[43moutput_keys\u001b[49m\u001b[43m,\u001b[49m\n\u001b[0;32m   1732\u001b[0m \u001b[43m    \u001b[49m\u001b[43mstream_keys\u001b[49m\u001b[38;5;241;43m=\u001b[39;49m\u001b[38;5;28;43mself\u001b[39;49m\u001b[38;5;241;43m.\u001b[39;49m\u001b[43mstream_channels_asis\u001b[49m\u001b[43m,\u001b[49m\n\u001b[0;32m   1733\u001b[0m \u001b[43m    \u001b[49m\u001b[43minterrupt_before\u001b[49m\u001b[38;5;241;43m=\u001b[39;49m\u001b[43minterrupt_before_\u001b[49m\u001b[43m,\u001b[49m\n\u001b[0;32m   1734\u001b[0m \u001b[43m    \u001b[49m\u001b[43minterrupt_after\u001b[49m\u001b[38;5;241;43m=\u001b[39;49m\u001b[43minterrupt_after_\u001b[49m\u001b[43m,\u001b[49m\n\u001b[0;32m   1735\u001b[0m \u001b[43m    \u001b[49m\u001b[43mmanager\u001b[49m\u001b[38;5;241;43m=\u001b[39;49m\u001b[43mrun_manager\u001b[49m\u001b[43m,\u001b[49m\n\u001b[0;32m   1736\u001b[0m \u001b[43m    \u001b[49m\u001b[43mdebug\u001b[49m\u001b[38;5;241;43m=\u001b[39;49m\u001b[43mdebug\u001b[49m\u001b[43m,\u001b[49m\n\u001b[0;32m   1737\u001b[0m \u001b[43m\u001b[49m\u001b[43m)\u001b[49m \u001b[38;5;28;01mas\u001b[39;00m loop:\n\u001b[0;32m   1738\u001b[0m     \u001b[38;5;66;03m# create runner\u001b[39;00m\n\u001b[0;32m   1739\u001b[0m     runner \u001b[38;5;241m=\u001b[39m PregelRunner(\n\u001b[0;32m   1740\u001b[0m         submit\u001b[38;5;241m=\u001b[39mconfig[CONF]\u001b[38;5;241m.\u001b[39mget(CONFIG_KEY_RUNNER_SUBMIT, loop\u001b[38;5;241m.\u001b[39msubmit),\n\u001b[0;32m   1741\u001b[0m         put_writes\u001b[38;5;241m=\u001b[39mloop\u001b[38;5;241m.\u001b[39mput_writes,\n\u001b[0;32m   1742\u001b[0m         schedule_task\u001b[38;5;241m=\u001b[39mloop\u001b[38;5;241m.\u001b[39maccept_push,\n\u001b[0;32m   1743\u001b[0m         node_finished\u001b[38;5;241m=\u001b[39mconfig[CONF]\u001b[38;5;241m.\u001b[39mget(CONFIG_KEY_NODE_FINISHED),\n\u001b[0;32m   1744\u001b[0m     )\n\u001b[0;32m   1745\u001b[0m     \u001b[38;5;66;03m# enable subgraph streaming\u001b[39;00m\n",
      "File \u001b[1;32me:\\LangGraph\\venv\\lib\\site-packages\\langgraph\\pregel\\loop.py:862\u001b[0m, in \u001b[0;36mSyncPregelLoop.__init__\u001b[1;34m(self, input, stream, config, store, checkpointer, nodes, specs, manager, interrupt_after, interrupt_before, output_keys, stream_keys, debug)\u001b[0m\n\u001b[0;32m    860\u001b[0m \u001b[38;5;28mself\u001b[39m\u001b[38;5;241m.\u001b[39mstack \u001b[38;5;241m=\u001b[39m ExitStack()\n\u001b[0;32m    861\u001b[0m \u001b[38;5;28;01mif\u001b[39;00m checkpointer:\n\u001b[1;32m--> 862\u001b[0m     \u001b[38;5;28mself\u001b[39m\u001b[38;5;241m.\u001b[39mcheckpointer_get_next_version \u001b[38;5;241m=\u001b[39m \u001b[43mcheckpointer\u001b[49m\u001b[38;5;241;43m.\u001b[39;49m\u001b[43mget_next_version\u001b[49m\n\u001b[0;32m    863\u001b[0m     \u001b[38;5;28mself\u001b[39m\u001b[38;5;241m.\u001b[39mcheckpointer_put_writes \u001b[38;5;241m=\u001b[39m checkpointer\u001b[38;5;241m.\u001b[39mput_writes\n\u001b[0;32m    864\u001b[0m     \u001b[38;5;28mself\u001b[39m\u001b[38;5;241m.\u001b[39mcheckpointer_put_writes_accepts_task_path \u001b[38;5;241m=\u001b[39m (\n\u001b[0;32m    865\u001b[0m         signature(checkpointer\u001b[38;5;241m.\u001b[39mput_writes)\u001b[38;5;241m.\u001b[39mparameters\u001b[38;5;241m.\u001b[39mget(\u001b[38;5;124m\"\u001b[39m\u001b[38;5;124mtask_path\u001b[39m\u001b[38;5;124m\"\u001b[39m)\n\u001b[0;32m    866\u001b[0m         \u001b[38;5;129;01mis\u001b[39;00m \u001b[38;5;129;01mnot\u001b[39;00m \u001b[38;5;28;01mNone\u001b[39;00m\n\u001b[0;32m    867\u001b[0m     )\n",
      "\u001b[1;31mAttributeError\u001b[0m: '_GeneratorContextManager' object has no attribute 'get_next_version'"
     ]
    }
   ],
   "source": [
    "from langchain_core.messages import HumanMessage\n",
    "\n",
    "config = {\"configurable\": {\"thread_id\": \"1\"}}\n",
    "input_message = HumanMessage(content=\"Hello, I am John\")\n",
    "\n",
    "graph.invoke({\"messages\": input_message}, config=config)"
   ]
  },
  {
   "cell_type": "code",
   "execution_count": 10,
   "metadata": {},
   "outputs": [
    {
     "data": {
      "image/png": "[encoded data removed]",
      "text/plain": [
       "<IPython.core.display.Image object>"
      ]
     },
     "metadata": {},
     "output_type": "display_data"
    },
    {
     "name": "stdout",
     "output_type": "stream",
     "text": [
      "Graph Output: {'messages': [HumanMessage(content='I need a custom itinerary for my trip to Spain.', additional_kwargs={}, response_metadata={}, id='c7e4e4b8-e295-42fe-887b-01bbbe57540a'), AIMessage(content='', additional_kwargs={'tool_calls': [{'id': 'call_40v2', 'function': {'arguments': '{\"query\":\"custom itinerary for Spain trip\"}', 'name': 'tavily_search_results_json'}, 'type': 'function'}]}, response_metadata={'token_usage': {'completion_tokens': 51, 'prompt_tokens': 1020, 'total_tokens': 1071, 'completion_time': 0.147508366, 'prompt_time': 0.076241377, 'queue_time': 0.517965442, 'total_time': 0.223749743}, 'model_name': 'llama3-70b-8192', 'system_fingerprint': 'fp_753a4aecf6', 'finish_reason': 'tool_calls', 'logprobs': None}, id='run-bf4baa26-65b2-4954-b4c6-8d2f3c4a440b-0', tool_calls=[{'name': 'tavily_search_results_json', 'args': {'query': 'custom itinerary for Spain trip'}, 'id': 'call_40v2', 'type': 'tool_call'}], usage_metadata={'input_tokens': 1020, 'output_tokens': 51, 'total_tokens': 1071}), ToolMessage(content='[{\"url\": \"https://www.spainlesstraveled.com/spain-travel-itinerary\", \"content\": \"We work individually with our clients to create and customize once in a life time Spain travel itineraries. Book a call today to get started!\"}, {\"url\": \"https://triptile.com/destination/spain\", \"content\": \"Plan and book your fully custom Spain itinerary of any complexity and duration with Triptile™ online trip planner for Europe.\"}]', name='tavily_search_results_json', id='10b33aa6-6de9-456d-ae06-40c11812128f', tool_call_id='call_40v2', artifact={'query': 'custom itinerary for Spain trip', 'follow_up_questions': None, 'answer': None, 'images': [], 'results': [{'url': 'https://www.spainlesstraveled.com/spain-travel-itinerary', 'title': 'Personalized Spain Travel Itinerary - Spain Less Traveled', 'content': 'We work individually with our clients to create and customize once in a life time Spain travel itineraries. Book a call today to get started!', 'score': 0.8098936, 'raw_content': None}, {'url': 'https://triptile.com/destination/spain', 'title': 'Spain Trip Planner | Build Your Own Trip to Spain - Triptile', 'content': 'Plan and book your fully custom Spain itinerary of any complexity and duration with Triptile™ online trip planner for Europe.', 'score': 0.80844593, 'raw_content': None}], 'response_time': 0.72}), AIMessage(content=\"It seems like you're looking for a customized itinerary for your trip to Spain. Based on the results, I would recommend checking out the websites of Spain Less Traveled and Triptile. They both offer customized itinerary planning services that can help you create a personalized trip plan for your Spain adventure. You can book a call with Spain Less Traveled or use Triptile's online trip planner to get started.\", additional_kwargs={}, response_metadata={'token_usage': {'completion_tokens': 83, 'prompt_tokens': 2401, 'total_tokens': 2484, 'completion_time': 0.237142857, 'prompt_time': 0.226266561, 'queue_time': -0.318515749, 'total_time': 0.463409418}, 'model_name': 'llama3-70b-8192', 'system_fingerprint': 'fp_2f30b0b571', 'finish_reason': 'stop', 'logprobs': None}, id='run-5192ea09-5715-41ea-b9f6-3d3d9161f1a5-0', usage_metadata={'input_tokens': 2401, 'output_tokens': 83, 'total_tokens': 2484})], 'ask_human': False}\n"
     ]
    }
   ],
   "source": [
    "from langchain_groq import ChatGroq\n",
    "from langchain_community.tools.tavily_search import TavilySearchResults\n",
    "from langgraph.graph import StateGraph\n",
    "from langgraph.graph.message import add_messages\n",
    "from langgraph.prebuilt import ToolNode, tools_condition\n",
    "from langchain_core.tools import tool\n",
    "from langchain_core.messages import AIMessage, ToolMessage, HumanMessage\n",
    "from typing import Annotated\n",
    "from dotenv import load_dotenv\n",
    "import os\n",
    "\n",
    "# Load environment variables\n",
    "load_dotenv()\n",
    "tav_api = os.environ.get(\"TAVILY_API_KEY\")\n",
    "\n",
    "# Define custom state\n",
    "class State(dict):\n",
    "    messages: Annotated[list, add_messages]\n",
    "    ask_human: bool  # Flag to decide when human intervention is needed\n",
    "\n",
    "# Define a tool for escalating to human\n",
    "@tool\n",
    "def request_assistance():\n",
    "    \"\"\"Escalate to a human expert when AI cannot handle the request.\"\"\"\n",
    "    return \"Escalating to a human expert.\"\n",
    "\n",
    "# Define AI model and tools\n",
    "llm = ChatGroq(model_name=\"llama3-70b-8192\", temperature=0)\n",
    "tool = TavilySearchResults(max_results=2, api_key=tav_api)\n",
    "tools = [tool]\n",
    "llm_with_tools = llm.bind_tools(tools + [request_assistance])\n",
    "\n",
    "# Chatbot function\n",
    "def chatbot(state: State):\n",
    "    response = llm_with_tools.invoke(state[\"messages\"])\n",
    "    ask_human = False  # Default to AI handling the request\n",
    "\n",
    "    if response.tool_calls and response.tool_calls[0][\"name\"] == \"request_assistance\":\n",
    "        ask_human = True  # Escalate to human if required\n",
    "\n",
    "    return {\"messages\": [response], \"ask_human\": ask_human}\n",
    "\n",
    "# Human node\n",
    "def human_node(state: State):\n",
    "    return {\n",
    "        \"messages\": [ToolMessage(content=\"Human agent has responded.\")],\n",
    "        \"ask_human\": False,\n",
    "    }\n",
    "\n",
    "# Build conversation graph\n",
    "graph_builder = StateGraph(State)\n",
    "graph_builder.add_node(\"chatbot\", chatbot)\n",
    "graph_builder.add_node(\"human\", human_node)\n",
    "graph_builder.add_node(\"tools\", ToolNode(tools=[tool]))\n",
    "\n",
    "# Decision-making process\n",
    "def select_next_node(state: State):\n",
    "    return \"human\" if state[\"ask_human\"] else tools_condition(state)\n",
    "\n",
    "graph_builder.add_conditional_edges(\n",
    "    \"chatbot\", select_next_node, {\"human\": \"human\", \"tools\": \"tools\", \"__end__\": \"__end__\"}\n",
    ")\n",
    "\n",
    "graph_builder.add_edge(\"tools\", \"chatbot\")\n",
    "graph_builder.add_edge(\"human\", \"chatbot\")\n",
    "graph_builder.set_entry_point(\"chatbot\")\n",
    "\n",
    "# Compile graph without checkpointing\n",
    "graph = graph_builder.compile(interrupt_before=[\"human\"])\n",
    "\n",
    "from IPython.display import Image, display\n",
    "\n",
    "try:\n",
    "    display(Image(graph.get_graph().draw_mermaid_png()))\n",
    "except Exception:\n",
    "    pass\n",
    "\n",
    "# Simulating a conversation\n",
    "config = {\"configurable\": {\"thread_id\": \"100\"}}\n",
    "input_message = HumanMessage(content=\"I need a custom itinerary for my trip to Spain.\")\n",
    "response = graph.invoke({\"messages\": [input_message]}, config=config)\n",
    "\n",
    "# Print output to verify\n",
    "print(\"Graph Output:\", response)\n"
   ]
  },
  {
   "cell_type": "code",
   "execution_count": 18,
   "metadata": {},
   "outputs": [
    {
     "name": "stdout",
     "output_type": "stream",
     "text": [
      "\n",
      "=== RAW RESPONSE DEBUG ===\n",
      "<class 'langgraph.pregel.io.AddableValuesDict'>\n",
      "{'messages': [HumanMessage(content='What are the latest updates on AI regulation in Europe?', additional_kwargs={}, response_metadata={}, id='9ba3bfe1-2506-4b30-b018-3f853fc2e9be'), AIMessage(content='', additional_kwargs={'tool_calls': [{'id': 'call_8v8z', 'function': {'arguments': '{\"query\":\"latest updates on AI regulation in Europe\"}', 'name': 'tavily_search_results_json'}, 'type': 'function'}]}, response_metadata={'token_usage': {'completion_tokens': 53, 'prompt_tokens': 1020, 'total_tokens': 1073, 'completion_time': 0.157119746, 'prompt_time': 0.059761752, 'queue_time': 0.017205561999999994, 'total_time': 0.216881498}, 'model_name': 'llama3-70b-8192', 'system_fingerprint': 'fp_753a4aecf6', 'finish_reason': 'tool_calls', 'logprobs': None}, id='run-80e07339-21a7-4e1f-a7dd-9eb1d63bef6d-0', tool_calls=[{'name': 'tavily_search_results_json', 'args': {'query': 'latest updates on AI regulation in Europe'}, 'id': 'call_8v8z', 'type': 'tool_call'}], usage_metadata={'input_tokens': 1020, 'output_tokens': 53, 'total_tokens': 1073}), ToolMessage(content='[{\"url\": \"https://digital-strategy.ec.europa.eu/en/policies/regulatory-framework-ai\", \"content\": \"The AI Act (Regulation (EU) 2024/1689 laying down harmonised rules on artificial intelligence)is the first-ever comprehensive legal framework on AI worldwide. The\\u202fAI Act sets out a clear set of risk-based rules for AI developers and deployers regarding specific uses of AI. The AI Act defines 4 levels of risk for AI systems: The AI Act does not introduce rules for AI that is deemed minimal or no risk. How does it all work in practice for providers of high-risk AI systems? How does it all work in practice for providers of high-risk AI systems? The\\u202fEuropean AI Office, established in February 2024 within the Commission, oversees the AI Act’s enforcement and implementation in the EU Member States. Text of the AI Act in all EU official languages\"}, {\"url\": \"https://data.europa.eu/en/news-events/news/open-data-and-ai-update-ai-act\", \"content\": \"Open data and AI: An update on the AI Act | data.europa.eu data.europa.eu EU Open Data Days Open data and AI: An update on the AI Act Open data and AI: An update on the AI Act At\\xa0data.europa.eu, we recognise the importance of adhering to these requirements to ensure the ethical and transparent use of data and AI. To stay informed about the evolving regulatory landscape and the AI Act, keep an eye on data.europa.eu! For more news and events, follow us on\\xa0X/Twitter and\\xa0LinkedIn, or subscribe to\\xa0our newsletter. Get the latest information on data related events, news and publications. Contact the data.europa.eu team EU Publications Contact the EU Search for EU social media channels Search for EU institutions\"}]', name='tavily_search_results_json', id='d44719f7-514e-4a85-9efe-67a08de7ac5c', tool_call_id='call_8v8z', artifact={'query': 'latest updates on AI regulation in Europe', 'follow_up_questions': None, 'answer': None, 'images': [], 'results': [{'url': 'https://digital-strategy.ec.europa.eu/en/policies/regulatory-framework-ai', 'title': \"AI Act | Shaping Europe's digital future - European Union\", 'content': 'The AI Act (Regulation (EU) 2024/1689 laying down harmonised rules on artificial intelligence)is the first-ever comprehensive legal framework on AI worldwide. The\\u202fAI Act sets out a clear set of risk-based rules for AI developers and deployers regarding specific uses of AI. The AI Act defines 4 levels of risk for AI systems: The AI Act does not introduce rules for AI that is deemed minimal or no risk. How does it all work in practice for providers of high-risk AI systems? How does it all work in practice for providers of high-risk AI systems? The\\u202fEuropean AI Office, established in February 2024 within the Commission, oversees the AI Act’s enforcement and implementation in the EU Member States. Text of the AI Act in all EU official languages', 'score': 0.78749067, 'raw_content': None}, {'url': 'https://data.europa.eu/en/news-events/news/open-data-and-ai-update-ai-act', 'title': 'Open data and AI: An update on the AI Act | data.europa.eu', 'content': 'Open data and AI: An update on the AI Act | data.europa.eu data.europa.eu EU Open Data Days Open data and AI: An update on the AI Act Open data and AI: An update on the AI Act At\\xa0data.europa.eu, we recognise the importance of adhering to these requirements to ensure the ethical and transparent use of data and AI. To stay informed about the evolving regulatory landscape and the AI Act, keep an eye on data.europa.eu! For more news and events, follow us on\\xa0X/Twitter and\\xa0LinkedIn, or subscribe to\\xa0our newsletter. Get the latest information on data related events, news and publications. Contact the data.europa.eu team EU Publications Contact the EU Search for EU social media channels Search for EU institutions', 'score': 0.66203266, 'raw_content': None}], 'response_time': 0.8}), AIMessage(content='The European Union has established the AI Act, a comprehensive legal framework for artificial intelligence. This framework sets out risk-based rules for AI developers and deployers, categorizing AI systems into four levels of risk. The AI Act does not introduce rules for AI deemed minimal or no risk. For high-risk AI systems, providers must adhere to specific guidelines, and the European AI Office oversees the enforcement and implementation of the AI Act in EU Member States.', additional_kwargs={}, response_metadata={'token_usage': {'completion_tokens': 89, 'prompt_tokens': 1470, 'total_tokens': 1559, 'completion_time': 0.261598564, 'prompt_time': 0.084915469, 'queue_time': 0.09567942500000001, 'total_time': 0.346514033}, 'model_name': 'llama3-70b-8192', 'system_fingerprint': 'fp_2f30b0b571', 'finish_reason': 'stop', 'logprobs': None}, id='run-d084b13d-a685-42c2-b235-3526d8845701-0', usage_metadata={'input_tokens': 1470, 'output_tokens': 89, 'total_tokens': 1559})], 'ask_human': False}\n",
      "==========================\n",
      "\n",
      "\n",
      "============================================================\n",
      "🔵 **STATUS UPDATE**\n",
      "⚠️ **No clear response detected. Possible escalation to a human needed.**\n",
      "============================================================\n",
      "\n"
     ]
    }
   ],
   "source": [
    "config = {\"configurable\": {\"thread_id\": \"104\"}}\n",
    "input_message = HumanMessage(content=\"What are the latest updates on AI regulation in Europe?\")\n",
    "response = graph.invoke({\"messages\": [input_message]}, config=config)\n",
    "\n",
    "# Debugging: Print the raw response\n",
    "print(\"\\n=== RAW RESPONSE DEBUG ===\")\n",
    "print(type(response))  # Check type of response\n",
    "print(response)  # Print raw response\n",
    "print(\"==========================\\n\")\n",
    "\n",
    "# Function to print response clearly\n",
    "def pretty_print_response(response):\n",
    "    print(\"\\n\" + \"=\" * 60)\n",
    "    print(\"🔵 **STATUS UPDATE**\")\n",
    "\n",
    "    if isinstance(response, list) and response:  # If response is a list (likely from an external tool)\n",
    "        print(\"✅ **Using External Tool: Tavily Search Tool**\")\n",
    "        for i, res in enumerate(response, start=1):\n",
    "            print(f\"\\n📌 **Result {i}:**\")\n",
    "            print(f\"🔗 **URL:** {res.get('url', 'N/A')}\")\n",
    "            print(f\"📜 **Content:** {res.get('content', 'No summary available')[:300]}...\")  # Truncated for clarity\n",
    "\n",
    "    elif isinstance(response, dict) and \"text\" in response:  # If response is a dict with 'text' key\n",
    "        print(\"💡 **Answering Directly from Model**\")\n",
    "        print(f\"\\n📝 **Response:** {response['text']}\")\n",
    "\n",
    "    elif isinstance(response, str) and response.strip():  # If response is a non-empty string (direct model response)\n",
    "        print(\"💡 **Answering Directly from Model**\")\n",
    "        print(f\"\\n📝 **Response:** {response}\")\n",
    "\n",
    "    else:  # If response is empty or unclear\n",
    "        print(\"⚠️ **No clear response detected. Possible escalation to a human needed.**\")\n",
    "\n",
    "    print(\"=\" * 60 + \"\\n\")\n",
    "\n",
    "# Call the function to display response clearly\n",
    "pretty_print_response(response)\n"
   ]
  },
  {
   "cell_type": "code",
   "execution_count": 16,
   "metadata": {},
   "outputs": [
    {
     "name": "stdout",
     "output_type": "stream",
     "text": [
      "\n",
      "==================================================\n",
      "🔵 **STATUS UPDATE**\n",
      "⚠️ No response generated. Possible escalation to a human needed.\n",
      "==================================================\n",
      "\n"
     ]
    }
   ],
   "source": [
    "config = {\"configurable\": {\"thread_id\": \"102\"}}\n",
    "input_message = HumanMessage(content=\"Explain quantum computing in simple terms.\")\n",
    "response = graph.invoke({\"messages\": [input_message]}, config=config)\n",
    "pretty_print_response(response)\n"
   ]
  },
  {
   "cell_type": "code",
   "execution_count": 13,
   "metadata": {},
   "outputs": [
    {
     "name": "stdout",
     "output_type": "stream",
     "text": [
      "\n",
      "============================== Graph Output ==============================\n",
      "\n",
      "\n",
      "--- Message 1 ---\n",
      "Message: Write a short poem about the ocean.\n",
      "\n",
      "--- Message 2 ---\n",
      "Message: \n",
      "\n",
      "--- Message 3 ---\n",
      "Message: [{\"url\": \"https://www.familyfriendpoems.com/poems/nature/ocean/\", \"content\": \"18 Poems about the Beauty of the Ocean and Seas · 1. Sea Fever · 2. To Little Wave · 3. Promises Of A New Day · 4. A Miracle To Behold · 5. The Ocean · 6. Storm\"}, {\"url\": \"https://www.poetryfoundation.org/poems/57286/the-ocean\", \"content\": \"The ocean has its silent caves, Deep, quiet, and alone; Though there be fury on the waves, Beneath them there is none.\"}]\n",
      "\n",
      "--- Message 4 ---\n",
      "Message: \n",
      "\n",
      "============================== End of Output ==============================\n",
      "\n"
     ]
    }
   ],
   "source": [
    "config = {\"configurable\": {\"thread_id\": \"103\"}}\n",
    "input_message = HumanMessage(content=\"Write a short poem about the ocean.\")\n",
    "response = graph.invoke({\"messages\": [input_message]}, config=config)\n",
    "pretty_print_response(response)\n"
   ]
  },
  {
   "cell_type": "code",
   "execution_count": 14,
   "metadata": {},
   "outputs": [
    {
     "name": "stdout",
     "output_type": "stream",
     "text": [
      "\n",
      "============================== Graph Output ==============================\n",
      "\n",
      "\n",
      "--- Message 1 ---\n",
      "Message: What are the latest updates on AI regulation in Europe?\n",
      "\n",
      "--- Message 2 ---\n",
      "Message: \n",
      "\n",
      "--- Message 3 ---\n",
      "Message: [{\"url\": \"https://digital-strategy.ec.europa.eu/en/policies/regulatory-framework-ai\", \"content\": \"The AI Act (Regulation (EU) 2024/1689 laying down harmonised rules on artificial intelligence)is the first-ever comprehensive legal framework on AI worldwide. The AI Act sets out a clear set of risk-based rules for AI developers and deployers regarding specific uses of AI. The AI Act defines 4 levels of risk for AI systems: The AI Act does not introduce rules for AI that is deemed minimal or no risk. How does it all work in practice for providers of high-risk AI systems? How does it all work in practice for providers of high-risk AI systems? The European AI Office, established in February 2024 within the Commission, oversees the AI Act’s enforcement and implementation in the EU Member States. Text of the AI Act in all EU official languages\"}, {\"url\": \"https://data.europa.eu/en/news-events/news/open-data-and-ai-update-ai-act\", \"content\": \"Open data and AI: An update on the AI Act | data.europa.eu data.europa.eu EU Open Data Days Open data and AI: An update on the AI Act Open data and AI: An update on the AI Act At data.europa.eu, we recognise the importance of adhering to these requirements to ensure the ethical and transparent use of data and AI. To stay informed about the evolving regulatory landscape and the AI Act, keep an eye on data.europa.eu! For more news and events, follow us on X/Twitter and LinkedIn, or subscribe to our newsletter. Get the latest information on data related events, news and publications. Contact the data.europa.eu team EU Publications Contact the EU Search for EU social media channels Search for EU institutions\"}]\n",
      "\n",
      "--- Message 4 ---\n",
      "Message: \n",
      "\n",
      "============================== End of Output ==============================\n",
      "\n"
     ]
    }
   ],
   "source": [
    "config = {\"configurable\": {\"thread_id\": \"104\"}}\n",
    "input_message = HumanMessage(content=\"What are the latest updates on AI regulation in Europe?\")\n",
    "response = graph.invoke({\"messages\": [input_message]}, config=config)\n",
    "pretty_print_response(response)\n"
   ]
  },
  {
   "cell_type": "code",
   "execution_count": 19,
   "metadata": {},
   "outputs": [
    {
     "data": {
      "text/plain": [
       "{'messages': [HumanMessage(content='I want a budget-friendly trip to Spain.', additional_kwargs={}, response_metadata={}, id='e173e79c-f6b9-4d69-891e-15c813abc8c2'),\n",
       "  AIMessage(content='', additional_kwargs={'tool_calls': [{'id': 'call_4erp', 'function': {'arguments': '{\"query\":\"budget-friendly trip to Spain\"}', 'name': 'tavily_search_results_json'}, 'type': 'function'}]}, response_metadata={'token_usage': {'completion_tokens': 51, 'prompt_tokens': 1018, 'total_tokens': 1069, 'completion_time': 0.146043169, 'prompt_time': 0.06454893, 'queue_time': 0.23431689900000002, 'total_time': 0.210592099}, 'model_name': 'llama3-70b-8192', 'system_fingerprint': 'fp_753a4aecf6', 'finish_reason': 'tool_calls', 'logprobs': None}, id='run-aa04ea4b-5500-488b-b6cd-61080804e4a8-0', tool_calls=[{'name': 'tavily_search_results_json', 'args': {'query': 'budget-friendly trip to Spain'}, 'id': 'call_4erp', 'type': 'tool_call'}], usage_metadata={'input_tokens': 1018, 'output_tokens': 51, 'total_tokens': 1069}),\n",
       "  ToolMessage(content='[{\"url\": \"https://www.eurocheapo.com/blog/spain-budget-travel-guide.html\", \"content\": \"1. Spanish cities can be cheaper in August · 2. Avoid major events in Madrid and Barcelona · 3. Plan your trip during Spain\\'s off-season.\"}, {\"url\": \"https://www.neverendingfootsteps.com/cost-of-travel-spain-budget/\", \"content\": \"Here\\'s what I paid for my trips across Spain: Bus from Barcelona to Madrid: €9. Bus from Barcelona to Valencia: €12.\"}]', name='tavily_search_results_json', id='5065b07a-1eb6-456b-b273-0659ef53e617', tool_call_id='call_4erp', artifact={'query': 'budget-friendly trip to Spain', 'follow_up_questions': None, 'answer': None, 'images': [], 'results': [{'url': 'https://www.eurocheapo.com/blog/spain-budget-travel-guide.html', 'title': 'Spain Budget Travel Guide: 50 Ways to save in Spain - EuroCheapo', 'content': \"1. Spanish cities can be cheaper in August · 2. Avoid major events in Madrid and Barcelona · 3. Plan your trip during Spain's off-season.\", 'score': 0.6102915, 'raw_content': None}, {'url': 'https://www.neverendingfootsteps.com/cost-of-travel-spain-budget/', 'title': 'The Cost of Travel in Spain: My Detailed Budget Breakdown', 'content': \"Here's what I paid for my trips across Spain: Bus from Barcelona to Madrid: €9. Bus from Barcelona to Valencia: €12.\", 'score': 0.586926, 'raw_content': None}], 'response_time': 1.37}),\n",
       "  AIMessage(content=\"It seems like you're looking for a budget-friendly trip to Spain. Based on the results from the tool, here are some tips that might help you:\\n\\n* Consider visiting Spanish cities in August, as they might be cheaper.\\n* Avoid planning your trip during major events in Madrid and Barcelona, as prices tend to be higher.\\n* Spain's off-season might be a good time to plan your trip, as it could be more budget-friendly.\\n\\nAdditionally, the tool provided some examples of transportation costs in Spain, such as bus fares from Barcelona to Madrid and Valencia.\\n\\nWould you like more information or help with planning your trip?\", additional_kwargs={}, response_metadata={'token_usage': {'completion_tokens': 125, 'prompt_tokens': 1203, 'total_tokens': 1328, 'completion_time': 0.364147627, 'prompt_time': 0.061062235, 'queue_time': 0.019161707000000007, 'total_time': 0.425209862}, 'model_name': 'llama3-70b-8192', 'system_fingerprint': 'fp_2f30b0b571', 'finish_reason': 'stop', 'logprobs': None}, id='run-60240601-3e32-4676-83b1-c3c49c8c81e0-0', usage_metadata={'input_tokens': 1203, 'output_tokens': 125, 'total_tokens': 1328})],\n",
       " 'ask_human': False}"
      ]
     },
     "execution_count": 19,
     "metadata": {},
     "output_type": "execute_result"
    }
   ],
   "source": [
    "class State(TypedDict):\n",
    "    messages: Annotated[list, add_messages]\n",
    "    user_preferences: dict  # Store user preferences like budget, favorite locations\n",
    "\n",
    "def chatbot(state: State):\n",
    "    response = llm.invoke(state[\"messages\"])\n",
    "    return {\"messages\": [response], \"user_preferences\": state.get(\"user_preferences\", {})}\n",
    "\n",
    "# Example input with user preferences\n",
    "config = {\"configurable\": {\"thread_id\": \"200\"}}\n",
    "input_message = HumanMessage(content=\"I want a budget-friendly trip to Spain.\")\n",
    "graph.invoke({\"messages\": input_message, \"user_preferences\": {\"budget\": \"low\"}}, config=config)\n"
   ]
  }
 ],
 "metadata": {
  "kernelspec": {
   "display_name": "venv",
   "language": "python",
   "name": "python3"
  },
  "language_info": {
   "codemirror_mode": {
    "name": "ipython",
    "version": 3
   },
   "file_extension": ".py",
   "mimetype": "text/x-python",
   "name": "python",
   "nbconvert_exporter": "python",
   "pygments_lexer": "ipython3",
   "version": "3.10.16"
  }
 },
 "nbformat": 4,
 "nbformat_minor": 2
}
