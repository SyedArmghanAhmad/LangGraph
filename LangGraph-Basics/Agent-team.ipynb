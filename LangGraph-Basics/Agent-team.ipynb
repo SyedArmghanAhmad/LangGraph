{
 "cells": [
  {
   "cell_type": "code",
   "execution_count": 4,
   "metadata": {},
   "outputs": [
    {
     "data": {
      "text/plain": [
       "True"
      ]
     },
     "execution_count": 4,
     "metadata": {},
     "output_type": "execute_result"
    }
   ],
   "source": [
    "from dotenv import load_dotenv\n",
    "\n",
    "load_dotenv()"
   ]
  },
  {
   "cell_type": "code",
   "execution_count": 1,
   "metadata": {},
   "outputs": [],
   "source": [
    "from langchain_groq import ChatGroq\n",
    "from langchain_core.prompts import ChatPromptTemplate\n",
    "from langchain_core.pydantic_v1 import BaseModel, Field"
   ]
  },
  {
   "cell_type": "code",
   "execution_count": 9,
   "metadata": {},
   "outputs": [
    {
     "name": "stdout",
     "output_type": "stream",
     "text": [
      "binary_score='yes'\n"
     ]
    }
   ],
   "source": [
    "class TransferNewsGrader(BaseModel):\n",
    "    \"\"\"Binary score for relevance check on football transfer news.\"\"\"\n",
    "    binary_score : str = Field(\n",
    "        description=\"The article is about football transfers, 'yes' or 'no'\"\n",
    "    )\n",
    "\n",
    "llm = ChatGroq(model_name=\"llama3-70b-8192\",temperature=0)\n",
    "structured_llm_grader=  llm.with_structured_output(TransferNewsGrader)\n",
    "\n",
    "system = \"\"\"You are a grader assessing whether a news article concerns a football transfer. \\n\n",
    "    Check if the article explicitly mentions player transfers between clubs, potential transfers, or confirmed transfers. \\n\n",
    "    Provide a binary score 'yes' or 'no' to indicate whether the news is about a football transfer.\"\"\"\n",
    "grade_prompt = ChatPromptTemplate.from_messages(\n",
    "    [(\"system\", system), (\"human\", \"News Article:\\n\\n {article}\")]\n",
    ")\n",
    "evaluator = grade_prompt | structured_llm_grader\n",
    "result = evaluator.invoke(\n",
    "    {\"There are rumors messi will switch from real madrid to FC Barcelona\"}\n",
    ")\n",
    "print(result)"
   ]
  },
  {
   "cell_type": "code",
   "execution_count": 8,
   "metadata": {},
   "outputs": [
    {
     "name": "stdout",
     "output_type": "stream",
     "text": [
      "can_be_posted='yes' meets_word_count='no' is_sensationalistic='yes' is_language_german='yes'\n"
     ]
    }
   ],
   "source": [
    "class ArticlePostabilityGrader(BaseModel):\n",
    "    \"\"\"Binary scores for postability check, word count, sensationalism, and language verification of a news article.\"\"\"\n",
    "    can_be_posted: str =Field(\n",
    "        description=\"The article is ready to be posted, 'yes' or 'no'\"\n",
    "    )\n",
    "    meets_word_count: str = Field(\n",
    "        description=\"The article has at least 200 words, 'yes' or 'no'\"\n",
    "    )\n",
    "    is_sensationalistic: str = Field(\n",
    "        description=\"The article is written in a sensationalistic style, 'yes' or 'no'\"\n",
    "    )\n",
    "    is_language_german: str = Field(\n",
    "        description=\"The language of the article is German, 'yes' or 'no'\"\n",
    "    )\n",
    "\n",
    "llm_postability = ChatGroq(model_name=\"llama3-70b-8192\",temperature=0)\n",
    "\n",
    "structured_llm_postability_grader=  llm_postability.with_structured_output(ArticlePostabilityGrader)\n",
    "\n",
    "postability_system = \"\"\"You are a grader assessing whether a news article is ready to be posted, if it meets the minimum word count of 200 words, is written in a sensationalistic style, and if it is in German. \\n\n",
    "    Evaluate the article for grammatical errors, completeness, appropriateness for publication, and EXAGERATED sensationalism. \\n\n",
    "    Also, confirm if the language used in the article is German and it meets the word count requirement. \\n\n",
    "    Provide four binary scores: one to indicate if the article can be posted ('yes' or 'no'), one for adequate word count ('yes' or 'no'), one for sensationalistic writing ('yes' or 'no'), and another if the language is German ('yes' or 'no').\"\"\"\n",
    "\n",
    "postability_grade_prompt = ChatPromptTemplate.from_messages(\n",
    "    [(\"system\", postability_system),(\"human\", \"News Article:\\n\\n {article}\")]\n",
    ")\n",
    "\n",
    "news_chef = postability_grade_prompt | structured_llm_postability_grader\n",
    "\n",
    "result = news_chef.invoke(\n",
    "    {\n",
    "        \"article\": \"Es wurde gemeldet, dass Messi von Real Madrid zu FC Barcelona wechselt.\"\n",
    "    }\n",
    ")\n",
    "print(result)"
   ]
  },
  {
   "cell_type": "code",
   "execution_count": 7,
   "metadata": {},
   "outputs": [
    {
     "name": "stdout",
     "output_type": "stream",
     "text": [
      "content='I think there may be a mistake here!\\n\\nThe correct translation would be:\\n\\nEs wurde berichtet, dass Messi von FC Barcelona zu Real Madrid wechseln wird.\\n\\nBut wait, Messi has never played for Real Madrid, he\\'s a Barcelona legend! So, the original statement is incorrect. A more accurate translation would be:\\n\\nEs wurde berichtet, dass Messi bei FC Barcelona bleibt.\\n\\nWhich means: \"It has been reported that Messi will stay at FC Barcelona.\"' additional_kwargs={} response_metadata={'token_usage': {'completion_tokens': 94, 'prompt_tokens': 55, 'total_tokens': 149, 'completion_time': 0.33210748, 'prompt_time': 0.034895433, 'queue_time': 0.143988681, 'total_time': 0.367002913}, 'model_name': 'llama3-70b-8192', 'system_fingerprint': 'fp_2f30b0b571', 'finish_reason': 'stop', 'logprobs': None} id='run-7ef59099-268e-4466-9bab-7db014f7d178-0' usage_metadata={'input_tokens': 55, 'output_tokens': 94, 'total_tokens': 149}\n"
     ]
    }
   ],
   "source": [
    "llm_translation = ChatGroq(model_name=\"llama3-70b-8192\",temperature=0)\n",
    "\n",
    "translation_system = \"\"\"You are a translator converting articles into German. Translate the text accurately while maintaining the original tone and style.\"\"\"\n",
    "translation_prompt = ChatPromptTemplate.from_messages(\n",
    "    [(\"system\", translation_system), (\"human\", \"Article to translate:\\n\\n {article}\")]\n",
    ")\n",
    "translator = translation_prompt | llm_translation\n",
    "\n",
    "result = translator.invoke(\n",
    "    {\n",
    "        \"article\": \"It has been reported that Messi will transfer from Real Madrid to FC Barcelona.\"\n",
    "    }\n",
    ")\n",
    "print(result)"
   ]
  },
  {
   "cell_type": "code",
   "execution_count": 11,
   "metadata": {},
   "outputs": [
    {
     "name": "stdout",
     "output_type": "stream",
     "text": [
      "content=\"In a shocking turn of events, Lionel Messi, widely regarded as one of the greatest footballers of all time, is rumored to be contemplating a move from his beloved FC Barcelona to their arch-rivals Real Madrid next season. This potential transfer has sent shockwaves throughout the football world, leaving fans and pundits alike stunned and wondering what could be behind this sudden change of heart.\\n\\nMessi, who has spent his entire professional career at Barcelona, has been the cornerstone of the team's success, leading them to numerous domestic and international titles, including four Champions League trophies. His on-field brilliance, combined with his loyalty to the club, has made him a revered figure in Catalonia, with many considering him a Barcelona legend.\\n\\nHowever, rumors of discontent have been circulating in recent months, with Messi reportedly unhappy with the club's direction and transfer policy. The departure of his close friend and teammate, Luis Suarez, to Atletico Madrid last summer may have also played a role in his decision to consider a move.\\n\\nA switch to Real Madrid would be a monumental shift, not only for Messi but also for the football world at large. The rivalry between Barcelona and Real Madrid is one of the fiercest in sports, with the two teams having a long and storied history of competition on and off the pitch. The thought of Messi donning the white of Real Madrid would be a difficult pill to swallow for many Barcelona fans, who have grown accustomed to seeing him terrorize opposing defenses in the Blaugrana.\\n\\nWhile this news is still speculative, it has already sparked a heated debate among football enthusiasts, with some arguing that Messi's potential move is a betrayal of his loyalty to Barcelona, while others see it as a necessary step in his career. One thing is certain, however: if Messi were to make the switch to Real Madrid, it would be a transfer that would shake the very foundations of the football world.\" additional_kwargs={} response_metadata={'token_usage': {'completion_tokens': 382, 'prompt_tokens': 61, 'total_tokens': 443, 'completion_time': 1.117462819, 'prompt_time': 0.006713862, 'queue_time': 0.288778333, 'total_time': 1.124176681}, 'model_name': 'llama3-70b-8192', 'system_fingerprint': 'fp_753a4aecf6', 'finish_reason': 'stop', 'logprobs': None} id='run-bd71440d-bc7b-4990-a4a6-b90a2e16b75b-0' usage_metadata={'input_tokens': 61, 'output_tokens': 382, 'total_tokens': 443}\n"
     ]
    }
   ],
   "source": [
    "llm_expansion = ChatGroq(model_name=\"llama3-70b-8192\",temperature=0)\n",
    "expansion_system = \"\"\"You are a writer tasked with expanding the given article to at least 200 words while maintaining relevance, coherence, and the original tone.\"\"\"\n",
    "expansion_prompt = ChatPromptTemplate.from_messages(\n",
    "    [(\"system\", expansion_system), (\"human\", \"Original article:\\n\\n {article}\")]\n",
    ")\n",
    "\n",
    "expander = expansion_prompt | llm_expansion\n",
    "\n",
    "article_content = \"Lionel Messi is reportedly considering a move from FC Barcelona to Real Madrid next season.\"\n",
    "result = expander.invoke({\"article\": article_content})\n",
    "print(result)"
   ]
  },
  {
   "cell_type": "code",
   "execution_count": 12,
   "metadata": {},
   "outputs": [],
   "source": [
    "from langgraph.graph import StateGraph, END\n",
    "from typing import TypedDict, Literal\n",
    "\n",
    "\n",
    "class AgentState(TypedDict):\n",
    "    article_state: str"
   ]
  },
  {
   "cell_type": "code",
   "execution_count": 13,
   "metadata": {},
   "outputs": [],
   "source": [
    "def get_transfer_news_grade(state:AgentState)->AgentState:\n",
    "    print(f\"get_transfer_news_grade: Current state: {state}\")\n",
    "    print(\"Evaluator: Reading article but doing nothing to change it...\")\n",
    "    return state\n",
    "\n",
    "def evaluate_article(state:AgentState)->AgentState:\n",
    "    print(f\"evaluate_article: Current state: {state}\")\n",
    "    print(\"News : Reading article but doing nothing to change it...\")\n",
    "    return state\n",
    "\n",
    "def translate_article(state:AgentState)->AgentState:\n",
    "    print(f\"translate_article: Current state: {state}\")\n",
    "    article=state[\"article_state\"]\n",
    "    result = translator.invoke({\"article\": article})\n",
    "    state[\"article_state\"]=result.content\n",
    "    return state\n",
    "\n",
    "def expand_article(state:AgentState)->AgentState:\n",
    "    print(f\"expand_article: Current state: {state}\")\n",
    "    article=state[\"article_state\"]\n",
    "    result = expander.invoke({\"article\": article})\n",
    "    state[\"article_state\"]=result.content\n",
    "    return state\n",
    "\n",
    "def publisher(state:AgentState)->AgentState:\n",
    "    print(f\"publisher: Current state: {state}\")\n",
    "    print(\"FINAL_STATE in publisher:\", state)\n",
    "    return state\n",
    "\n",
    "def evaluator_router(state:AgentState)->Literal[\"news_chef\",\"not_relevant\"]:\n",
    "    article = state[\"article_state\"]\n",
    "    evaluator = grade_prompt | structured_llm_grader\n",
    "    result = evaluator.invoke({\"article\": article})\n",
    "    print(f\"evaluator_router: Current state: {state}\")\n",
    "    print(\"Evaluator result: \", result)\n",
    "    if result.binary_score == \"yes\":\n",
    "        return \"news_chef\"\n",
    "    else:\n",
    "        return \"not_relevant\"\n",
    "\n",
    "\n",
    "def news_chef_router(\n",
    "    state: AgentState,\n",
    ") -> Literal[\"translator\", \"publisher\", \"expander\"]:\n",
    "    article = state[\"article_state\"]\n",
    "    result = news_chef.invoke({\"article\": article})\n",
    "    print(f\"news_chef_router: Current state: {state}\")\n",
    "    print(\"News chef result: \", result)\n",
    "    if result.can_be_posted == \"yes\":\n",
    "        return \"publisher\"\n",
    "    elif result.is_language_german == \"yes\":\n",
    "        if result.meets_word_count == \"no\" or result.is_sensationalistic == \"no\":\n",
    "            return \"expander\"\n",
    "    return \"translator\"\n",
    "\n"
   ]
  },
  {
   "cell_type": "code",
   "execution_count": 14,
   "metadata": {},
   "outputs": [],
   "source": [
    "workflow = StateGraph(AgentState)\n",
    "\n",
    "workflow.add_node(\"evaluator\",get_transfer_news_grade)\n",
    "workflow.add_node(\"news_chef\",evaluate_article)\n",
    "workflow.add_node(\"translator\", translate_article)\n",
    "workflow.add_node(\"expander\",expand_article)\n",
    "workflow.add_node(\"publisher\",publisher)\n",
    "\n",
    "workflow.set_entry_point(\"evaluator\")\n",
    "\n",
    "workflow.add_conditional_edges(\n",
    "    \"evaluator\", evaluator_router ,{\"news_chef\":\"news_chef\",\"not_relevant\":END}\n",
    ")\n",
    "workflow.add_conditional_edges(\n",
    "    \"news_chef\", news_chef_router, {\"translator\": \"translator\", \"publisher\": \"publisher\", \"expander\": \"expander\"}\n",
    ")\n",
    "\n",
    "workflow.add_edge(\"translator\",\"news_chef\")\n",
    "workflow.add_edge(\"expander\",\"news_chef\")\n",
    "workflow.add_edge(\"publisher\",END)\n",
    "\n",
    "\n",
    "app = workflow.compile()\n"
   ]
  },
  {
   "cell_type": "code",
   "execution_count": 15,
   "metadata": {},
   "outputs": [
    {
     "data": {
      "image/png": "[encoded data removed]",
      "text/plain": [
       "<IPython.core.display.Image object>"
      ]
     },
     "metadata": {},
     "output_type": "display_data"
    }
   ],
   "source": [
    "from IPython.display import Image, display\n",
    "\n",
    "try:\n",
    "    display(Image(app.get_graph(xray=True).draw_mermaid_png()))\n",
    "except:\n",
    "    pass"
   ]
  },
  {
   "cell_type": "code",
   "execution_count": 16,
   "metadata": {},
   "outputs": [
    {
     "name": "stdout",
     "output_type": "stream",
     "text": [
      "get_transfer_news_grade: Current state: {'article_state': 'The Pope will visit Spain today'}\n",
      "Evaluator: Reading article but doing nothing to change it...\n",
      "evaluator_router: Current state: {'article_state': 'The Pope will visit Spain today'}\n",
      "Evaluator result:  binary_score='no'\n",
      "Final result: {'article_state': 'The Pope will visit Spain today'}\n"
     ]
    }
   ],
   "source": [
    "initial_state = {\"article_state\": \"The Pope will visit Spain today\"}\n",
    "result = app.invoke(initial_state)\n",
    "\n",
    "print(\"Final result:\", result)"
   ]
  },
  {
   "cell_type": "code",
   "execution_count": 17,
   "metadata": {},
   "outputs": [
    {
     "name": "stdout",
     "output_type": "stream",
     "text": [
      "get_transfer_news_grade: Current state: {'article_state': 'Messi gonna switch from barca to real madrid'}\n",
      "Evaluator: Reading article but doing nothing to change it...\n",
      "evaluator_router: Current state: {'article_state': 'Messi gonna switch from barca to real madrid'}\n",
      "Evaluator result:  binary_score='yes'\n",
      "evaluate_article: Current state: {'article_state': 'Messi gonna switch from barca to real madrid'}\n",
      "News : Reading article but doing nothing to change it...\n",
      "news_chef_router: Current state: {'article_state': 'Messi gonna switch from barca to real madrid'}\n",
      "News chef result:  can_be_posted='no' meets_word_count='no' is_sensationalistic='yes' is_language_german='no'\n",
      "translate_article: Current state: {'article_state': 'Messi gonna switch from barca to real madrid'}\n",
      "evaluate_article: Current state: {'article_state': 'Here\\'s the translation:\\n\\nMessi wechselt von Barça zu Real Madrid\\n\\nNote: I\\'ve maintained the informal tone of the original text, using the colloquial \"wechselt\" (switches) instead of the more formal \"wird wechseln\" (will switch). I\\'ve also kept the abbreviated team names \"Barça\" and \"Real Madrid\" as they are commonly used in German football media.'}\n",
      "News : Reading article but doing nothing to change it...\n",
      "news_chef_router: Current state: {'article_state': 'Here\\'s the translation:\\n\\nMessi wechselt von Barça zu Real Madrid\\n\\nNote: I\\'ve maintained the informal tone of the original text, using the colloquial \"wechselt\" (switches) instead of the more formal \"wird wechseln\" (will switch). I\\'ve also kept the abbreviated team names \"Barça\" and \"Real Madrid\" as they are commonly used in German football media.'}\n",
      "News chef result:  can_be_posted='no' meets_word_count='no' is_sensationalistic='yes' is_language_german='yes'\n",
      "expand_article: Current state: {'article_state': 'Here\\'s the translation:\\n\\nMessi wechselt von Barça zu Real Madrid\\n\\nNote: I\\'ve maintained the informal tone of the original text, using the colloquial \"wechselt\" (switches) instead of the more formal \"wird wechseln\" (will switch). I\\'ve also kept the abbreviated team names \"Barça\" and \"Real Madrid\" as they are commonly used in German football media.'}\n",
      "evaluate_article: Current state: {'article_state': 'Here\\'s the expanded article:\\n\\nBreaking News: Messi Switches from Barça to Real Madrid!\\n\\nIn a shocking turn of events, the football world is abuzz with the news that Lionel Messi, the Argentine superstar, is leaving his beloved Barcelona (or Barça, as the Germans affectionately call it) to join arch-rivals Real Madrid. Yes, you read that right – the King of Camp Nou is trading in his Blaugrana jersey for the famous white of Los Blancos!\\n\\nAs a translator, I\\'ve made a conscious effort to maintain the informal tone of the original text, using the colloquial \"wechselt\" (switches) instead of the more formal \"wird wechseln\" (will switch). This is because, let\\'s be honest, this news is too big, too explosive, and too dramatic to be conveyed in a stuffy, formal tone. The use of abbreviated team names \"Barça\" and \"Real Madrid\" is also a nod to the way German football media often refers to these giants of the sport.\\n\\nThe implications of this transfer are enormous. Messi, a six-time Ballon d\\'Or winner, has been the face of Barcelona for over a decade, leading the team to numerous titles and accolades. His departure will undoubtedly leave a gaping hole in the Barça lineup, and fans around the world are still trying to wrap their heads around the idea of Messi donning the Real Madrid jersey.\\n\\nWhat does this mean for the future of La Liga? Will Messi\\'s move spark a new era of dominance for Real Madrid, or will Barcelona find a way to bounce back from this devastating blow? One thing is certain – the world of football will never be the same again. Stay tuned for more updates on this developing story!'}\n",
      "News : Reading article but doing nothing to change it...\n",
      "news_chef_router: Current state: {'article_state': 'Here\\'s the expanded article:\\n\\nBreaking News: Messi Switches from Barça to Real Madrid!\\n\\nIn a shocking turn of events, the football world is abuzz with the news that Lionel Messi, the Argentine superstar, is leaving his beloved Barcelona (or Barça, as the Germans affectionately call it) to join arch-rivals Real Madrid. Yes, you read that right – the King of Camp Nou is trading in his Blaugrana jersey for the famous white of Los Blancos!\\n\\nAs a translator, I\\'ve made a conscious effort to maintain the informal tone of the original text, using the colloquial \"wechselt\" (switches) instead of the more formal \"wird wechseln\" (will switch). This is because, let\\'s be honest, this news is too big, too explosive, and too dramatic to be conveyed in a stuffy, formal tone. The use of abbreviated team names \"Barça\" and \"Real Madrid\" is also a nod to the way German football media often refers to these giants of the sport.\\n\\nThe implications of this transfer are enormous. Messi, a six-time Ballon d\\'Or winner, has been the face of Barcelona for over a decade, leading the team to numerous titles and accolades. His departure will undoubtedly leave a gaping hole in the Barça lineup, and fans around the world are still trying to wrap their heads around the idea of Messi donning the Real Madrid jersey.\\n\\nWhat does this mean for the future of La Liga? Will Messi\\'s move spark a new era of dominance for Real Madrid, or will Barcelona find a way to bounce back from this devastating blow? One thing is certain – the world of football will never be the same again. Stay tuned for more updates on this developing story!'}\n",
      "News chef result:  can_be_posted='yes' meets_word_count='yes' is_sensationalistic='yes' is_language_german='no'\n",
      "publisher: Current state: {'article_state': 'Here\\'s the expanded article:\\n\\nBreaking News: Messi Switches from Barça to Real Madrid!\\n\\nIn a shocking turn of events, the football world is abuzz with the news that Lionel Messi, the Argentine superstar, is leaving his beloved Barcelona (or Barça, as the Germans affectionately call it) to join arch-rivals Real Madrid. Yes, you read that right – the King of Camp Nou is trading in his Blaugrana jersey for the famous white of Los Blancos!\\n\\nAs a translator, I\\'ve made a conscious effort to maintain the informal tone of the original text, using the colloquial \"wechselt\" (switches) instead of the more formal \"wird wechseln\" (will switch). This is because, let\\'s be honest, this news is too big, too explosive, and too dramatic to be conveyed in a stuffy, formal tone. The use of abbreviated team names \"Barça\" and \"Real Madrid\" is also a nod to the way German football media often refers to these giants of the sport.\\n\\nThe implications of this transfer are enormous. Messi, a six-time Ballon d\\'Or winner, has been the face of Barcelona for over a decade, leading the team to numerous titles and accolades. His departure will undoubtedly leave a gaping hole in the Barça lineup, and fans around the world are still trying to wrap their heads around the idea of Messi donning the Real Madrid jersey.\\n\\nWhat does this mean for the future of La Liga? Will Messi\\'s move spark a new era of dominance for Real Madrid, or will Barcelona find a way to bounce back from this devastating blow? One thing is certain – the world of football will never be the same again. Stay tuned for more updates on this developing story!'}\n",
      "FINAL_STATE in publisher: {'article_state': 'Here\\'s the expanded article:\\n\\nBreaking News: Messi Switches from Barça to Real Madrid!\\n\\nIn a shocking turn of events, the football world is abuzz with the news that Lionel Messi, the Argentine superstar, is leaving his beloved Barcelona (or Barça, as the Germans affectionately call it) to join arch-rivals Real Madrid. Yes, you read that right – the King of Camp Nou is trading in his Blaugrana jersey for the famous white of Los Blancos!\\n\\nAs a translator, I\\'ve made a conscious effort to maintain the informal tone of the original text, using the colloquial \"wechselt\" (switches) instead of the more formal \"wird wechseln\" (will switch). This is because, let\\'s be honest, this news is too big, too explosive, and too dramatic to be conveyed in a stuffy, formal tone. The use of abbreviated team names \"Barça\" and \"Real Madrid\" is also a nod to the way German football media often refers to these giants of the sport.\\n\\nThe implications of this transfer are enormous. Messi, a six-time Ballon d\\'Or winner, has been the face of Barcelona for over a decade, leading the team to numerous titles and accolades. His departure will undoubtedly leave a gaping hole in the Barça lineup, and fans around the world are still trying to wrap their heads around the idea of Messi donning the Real Madrid jersey.\\n\\nWhat does this mean for the future of La Liga? Will Messi\\'s move spark a new era of dominance for Real Madrid, or will Barcelona find a way to bounce back from this devastating blow? One thing is certain – the world of football will never be the same again. Stay tuned for more updates on this developing story!'}\n",
      "Final result: {'article_state': 'Here\\'s the expanded article:\\n\\nBreaking News: Messi Switches from Barça to Real Madrid!\\n\\nIn a shocking turn of events, the football world is abuzz with the news that Lionel Messi, the Argentine superstar, is leaving his beloved Barcelona (or Barça, as the Germans affectionately call it) to join arch-rivals Real Madrid. Yes, you read that right – the King of Camp Nou is trading in his Blaugrana jersey for the famous white of Los Blancos!\\n\\nAs a translator, I\\'ve made a conscious effort to maintain the informal tone of the original text, using the colloquial \"wechselt\" (switches) instead of the more formal \"wird wechseln\" (will switch). This is because, let\\'s be honest, this news is too big, too explosive, and too dramatic to be conveyed in a stuffy, formal tone. The use of abbreviated team names \"Barça\" and \"Real Madrid\" is also a nod to the way German football media often refers to these giants of the sport.\\n\\nThe implications of this transfer are enormous. Messi, a six-time Ballon d\\'Or winner, has been the face of Barcelona for over a decade, leading the team to numerous titles and accolades. His departure will undoubtedly leave a gaping hole in the Barça lineup, and fans around the world are still trying to wrap their heads around the idea of Messi donning the Real Madrid jersey.\\n\\nWhat does this mean for the future of La Liga? Will Messi\\'s move spark a new era of dominance for Real Madrid, or will Barcelona find a way to bounce back from this devastating blow? One thing is certain – the world of football will never be the same again. Stay tuned for more updates on this developing story!'}\n"
     ]
    }
   ],
   "source": [
    "initial_state = {\"article_state\": \"Messi gonna switch from barca to real madrid\"}\n",
    "result = app.invoke(initial_state)\n",
    "\n",
    "print(\"Final result:\", result)"
   ]
  }
 ],
 "metadata": {
  "kernelspec": {
   "display_name": "Python 3",
   "language": "python",
   "name": "python3"
  },
  "language_info": {
   "codemirror_mode": {
    "name": "ipython",
    "version": 3
   },
   "file_extension": ".py",
   "mimetype": "text/x-python",
   "name": "python",
   "nbconvert_exporter": "python",
   "pygments_lexer": "ipython3",
   "version": "3.10.0"
  }
 },
 "nbformat": 4,
 "nbformat_minor": 2
}
